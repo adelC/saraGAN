{
 "cells": [
  {
   "cell_type": "code",
   "execution_count": 21,
   "metadata": {},
   "outputs": [],
   "source": [
    "import numpy as np"
   ]
  },
  {
   "cell_type": "code",
   "execution_count": 22,
   "metadata": {},
   "outputs": [],
   "source": [
    "a = ((np.random.rand(32, 1, 8, 32, 32) - 0.5) * 2 * 1000).astype(int)\n",
    "\n",
    "b = ((np.random.rand(32, 1, 8, 32, 32) - 0.5) * 2 * 1000).astype(int)"
   ]
  },
  {
   "cell_type": "code",
   "execution_count": 23,
   "metadata": {},
   "outputs": [],
   "source": [
    "min, max = -1000, 1000"
   ]
  },
  {
   "cell_type": "code",
   "execution_count": 24,
   "metadata": {},
   "outputs": [],
   "source": [
    "a = a.clip(min, max)\n",
    "b = b.clip(min, max)\n",
    "\n",
    "a = a.reshape(a.shape[0], -1)\n",
    "b = b.reshape(b.shape[0], -1)\n",
    "\n",
    "\n",
    "\n",
    "a_hists = np.stack([np.histogram(a[i].astype(int), bins=max - min, density=True)[0] for i in range(a.shape[0])])\n",
    "\n",
    "b_hists = np.stack([np.histogram(b[i].astype(int), bins=max - min, density=True)[0] for i in range(b.shape[0])])\n",
    "\n",
    "a_dist = a_hists.mean(0)\n",
    "\n",
    "b_dist = b_hists.mean(0)\n",
    "\n",
    "abs(a_dist - b_dist).max()"
   ]
  },
  {
   "cell_type": "code",
   "execution_count": null,
   "metadata": {},
   "outputs": [],
   "source": []
  }
 ],
 "metadata": {
  "kernelspec": {
   "display_name": "Python 3",
   "language": "python",
   "name": "python3"
  },
  "language_info": {
   "codemirror_mode": {
    "name": "ipython",
    "version": 3
   },
   "file_extension": ".py",
   "mimetype": "text/x-python",
   "name": "python",
   "nbconvert_exporter": "python",
   "pygments_lexer": "ipython3",
   "version": "3.6.6"
  }
 },
 "nbformat": 4,
 "nbformat_minor": 4
}
