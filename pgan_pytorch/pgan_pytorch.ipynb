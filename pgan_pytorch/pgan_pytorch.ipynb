{
 "cells": [
  {
   "cell_type": "code",
   "execution_count": 2,
   "metadata": {},
   "outputs": [],
   "source": [
    "import torch\n",
    "\n",
    "from torchvision.datasets import VisionDataset\n",
    "from torchvision.transforms import ToTensor\n",
    "import numpy as np\n",
    "from PIL import Image\n",
    "import os\n",
    "import os.path\n",
    "import sys\n",
    "from torch import nn\n",
    "import torchsummary"
   ]
  },
  {
   "cell_type": "code",
   "execution_count": 2,
   "metadata": {},
   "outputs": [
    {
     "data": {
      "text/plain": [
       "True"
      ]
     },
     "execution_count": 2,
     "metadata": {},
     "output_type": "execute_result"
    }
   ],
   "source": [
    "torch.cuda.is_available()"
   ]
  },
  {
   "cell_type": "code",
   "execution_count": 4,
   "metadata": {},
   "outputs": [],
   "source": [
    "dataset_phase1 = DatasetFolder('/project/davidr/lidc_idri/npys/lanczos/8x8/', \n",
    "                               loader=lambda path: np.load(path),\n",
    "                               extensions=('npy',),\n",
    "                               transform=lambda x: torch.from_numpy(x))"
   ]
  },
  {
   "cell_type": "code",
   "execution_count": 5,
   "metadata": {},
   "outputs": [],
   "source": [
    "def num_filters(phase, num_phases, base_dim):\n",
    "    num_downscales = int(np.log2(base_dim / 16))\n",
    "    filters = min(base_dim // (2 ** (phase - num_phases + num_downscales)), base_dim)\n",
    "    return filters"
   ]
  },
  {
   "cell_type": "code",
   "execution_count": 6,
   "metadata": {},
   "outputs": [],
   "source": [
    "from torch.nn.modules.conv import _ConvNd\n",
    "from torch.nn.modules.utils import _single, _pair, _triple\n",
    "import torch.nn.functional as F"
   ]
  },
  {
   "cell_type": "code",
   "execution_count": 7,
   "metadata": {},
   "outputs": [],
   "source": [
    "from torch.nn import init"
   ]
  },
  {
   "cell_type": "code",
   "execution_count": 8,
   "metadata": {},
   "outputs": [],
   "source": [
    "from torch.nn.init import calculate_gain, _calculate_correct_fan, _calculate_fan_in_and_fan_out"
   ]
  },
  {
   "cell_type": "code",
   "execution_count": 9,
   "metadata": {},
   "outputs": [],
   "source": [
    "def kaiming_normal_(tensor, a=1e-2, mode='fan_in', nonlinearity='leaky_relu'):\n",
    "    fan = _calculate_correct_fan(tensor, mode)\n",
    "    gain = calculate_gain(nonlinearity, a)\n",
    "    std = gain / np.sqrt(fan)\n",
    "    with torch.no_grad():\n",
    "        tensor.normal_(0, 1)\n",
    "        return std"
   ]
  },
  {
   "cell_type": "code",
   "execution_count": 10,
   "metadata": {},
   "outputs": [],
   "source": [
    "class ScaleLinear(nn.Module):\n",
    "    __constants__ = ['bias', 'in_features', 'out_features']\n",
    "\n",
    "    def __init__(self, in_features, out_features, gain):\n",
    "        super(ScaleLinear, self).__init__()\n",
    "        self.in_features = in_features\n",
    "        self.out_features = out_features\n",
    "        self.weight = nn.Parameter(torch.randn(out_features, in_features))\n",
    "        self.bias = nn.Parameter(torch.zeros(out_features))\n",
    "        \n",
    "        fan_in, _ = _calculate_fan_in_and_fan_out(self.weight)\n",
    "        self.std = gain / np.sqrt(fan_in)\n",
    "        \n",
    "        print(self.std)\n",
    "\n",
    "    def forward(self, input):\n",
    "        return F.linear(input, self.weight * self.std, self.bias)\n"
   ]
  },
  {
   "cell_type": "code",
   "execution_count": 11,
   "metadata": {},
   "outputs": [
    {
     "name": "stdout",
     "output_type": "stream",
     "text": [
      "0.0625\n"
     ]
    },
    {
     "data": {
      "text/plain": [
       "tensor([[-0.8857,  1.8443, -0.9034,  ...,  2.5443,  3.0866,  0.2855]],\n",
       "       grad_fn=<AddmmBackward>)"
      ]
     },
     "execution_count": 11,
     "metadata": {},
     "output_type": "execute_result"
    }
   ],
   "source": [
    "ScaleLinear(512, 1024, gain=np.sqrt(2))(torch.randn(1, 512))"
   ]
  },
  {
   "cell_type": "code",
   "execution_count": 12,
   "metadata": {},
   "outputs": [],
   "source": [
    "class ScaleConv3d(nn.Module):\n",
    "    def __init__(self, in_channels, out_channels, kernel_size, gain, stride=1,\n",
    "                 padding=0):\n",
    "        super(ScaleConv3d, self).__init__()\n",
    "        kernel_size = _triple(kernel_size)\n",
    "        stride = _triple(stride)\n",
    "        padding = _triple(padding)\n",
    "        \n",
    "        self.in_channels = in_channels\n",
    "        self.out_channels = out_channels\n",
    "        self.kernel_size = kernel_size\n",
    "        self.stride = stride\n",
    "        self.padding = padding\n",
    "        self.weight = nn.Parameter(torch.randn(\n",
    "                out_channels, in_channels, *kernel_size))\n",
    "        self.bias = nn.Parameter(torch.zeros(out_channels))\n",
    "                \n",
    "        fan_in, _ = _calculate_fan_in_and_fan_out(self.weight)\n",
    "        print(fan_in, self.weight.shape)\n",
    "        self.std = gain / np.sqrt(fan_in)\n",
    "        \n",
    "        print(self.std)\n",
    "\n",
    "\n",
    "    def forward(self, input):        \n",
    "        return F.conv3d(input, self.weight * self.std, self.bias, self.stride,\n",
    "                        self.padding)\n"
   ]
  },
  {
   "cell_type": "code",
   "execution_count": 13,
   "metadata": {
    "collapsed": true,
    "jupyter": {
     "outputs_hidden": true
    }
   },
   "outputs": [
    {
     "name": "stdout",
     "output_type": "stream",
     "text": [
      "81 torch.Size([32, 3, 3, 3, 3])\n",
      "0.15713484026367724\n"
     ]
    },
    {
     "data": {
      "text/plain": [
       "tensor([[[[[-8.8279e-02,  1.1751e+00],\n",
       "           [ 6.3511e-01, -1.3265e+00]],\n",
       "\n",
       "          [[ 5.0024e-01,  6.9367e-01],\n",
       "           [-2.5748e-01, -1.4162e+00]]],\n",
       "\n",
       "\n",
       "         [[[ 3.2810e+00, -1.0235e+00],\n",
       "           [-2.6426e+00, -3.1438e-01]],\n",
       "\n",
       "          [[ 1.0964e+00,  1.2991e+00],\n",
       "           [ 8.6524e-01,  4.7748e-01]]],\n",
       "\n",
       "\n",
       "         [[[ 2.7181e+00,  6.4119e-01],\n",
       "           [ 1.3985e+00, -4.0136e-01]],\n",
       "\n",
       "          [[-6.1185e-01, -2.2857e+00],\n",
       "           [ 5.5720e-01, -8.5121e-01]]],\n",
       "\n",
       "\n",
       "         [[[-2.7544e-01, -1.0366e+00],\n",
       "           [-6.2685e-01, -1.0289e+00]],\n",
       "\n",
       "          [[ 5.9843e-01, -1.2806e+00],\n",
       "           [ 6.5786e-01,  5.5595e-01]]],\n",
       "\n",
       "\n",
       "         [[[-9.4004e-01, -1.2042e-01],\n",
       "           [ 6.5157e-01, -9.4176e-01]],\n",
       "\n",
       "          [[ 9.7319e-01, -3.0887e-02],\n",
       "           [-1.0150e+00, -2.2692e+00]]],\n",
       "\n",
       "\n",
       "         [[[-2.6934e-02,  2.5100e-01],\n",
       "           [ 9.1471e-01,  8.0825e-01]],\n",
       "\n",
       "          [[ 9.6768e-01, -9.8394e-01],\n",
       "           [-1.1850e+00, -1.7409e+00]]],\n",
       "\n",
       "\n",
       "         [[[-3.9369e-01,  2.3535e+00],\n",
       "           [-1.2610e+00,  5.1333e-01]],\n",
       "\n",
       "          [[-1.9199e-01,  6.4629e-01],\n",
       "           [-1.0098e+00,  1.6074e+00]]],\n",
       "\n",
       "\n",
       "         [[[-2.7757e-03,  1.3401e-02],\n",
       "           [ 1.0743e+00, -2.0571e+00]],\n",
       "\n",
       "          [[ 1.6836e+00,  1.2798e+00],\n",
       "           [-3.2532e+00,  1.6331e+00]]],\n",
       "\n",
       "\n",
       "         [[[ 2.4800e+00,  1.0065e+00],\n",
       "           [-3.8142e-01, -9.7486e-01]],\n",
       "\n",
       "          [[ 2.0750e-01, -1.3356e+00],\n",
       "           [ 2.8813e-01, -2.3629e-01]]],\n",
       "\n",
       "\n",
       "         [[[ 3.1491e+00,  1.7416e-01],\n",
       "           [ 6.3748e-01,  1.1271e+00]],\n",
       "\n",
       "          [[-1.2492e+00,  1.8913e+00],\n",
       "           [ 5.6217e-01, -2.1836e-01]]],\n",
       "\n",
       "\n",
       "         [[[-1.4235e+00, -7.7511e-01],\n",
       "           [ 3.1174e-02,  1.2744e+00]],\n",
       "\n",
       "          [[-4.3720e-01,  1.3648e+00],\n",
       "           [-8.2819e-01,  2.9639e-01]]],\n",
       "\n",
       "\n",
       "         [[[ 8.3300e-01,  4.6867e-01],\n",
       "           [-7.6986e-01, -7.0777e-02]],\n",
       "\n",
       "          [[ 2.2194e+00,  1.1613e-01],\n",
       "           [-7.6921e-01, -1.1287e+00]]],\n",
       "\n",
       "\n",
       "         [[[ 1.9200e+00, -7.2238e-01],\n",
       "           [-3.0541e-01, -1.6326e-01]],\n",
       "\n",
       "          [[ 2.6860e-01,  1.8199e+00],\n",
       "           [-9.7389e-01, -1.9533e+00]]],\n",
       "\n",
       "\n",
       "         [[[-2.7065e+00, -6.7040e-01],\n",
       "           [ 9.5656e-03,  1.9237e+00]],\n",
       "\n",
       "          [[ 5.1807e-01, -1.5971e+00],\n",
       "           [-2.1230e-01,  2.0039e+00]]],\n",
       "\n",
       "\n",
       "         [[[ 2.7816e+00, -1.4984e+00],\n",
       "           [ 2.1360e+00,  1.2083e+00]],\n",
       "\n",
       "          [[ 1.0070e+00,  1.0661e+00],\n",
       "           [-1.0985e+00, -2.2066e+00]]],\n",
       "\n",
       "\n",
       "         [[[-1.7584e+00,  2.1908e-01],\n",
       "           [-1.1618e+00, -8.1221e-01]],\n",
       "\n",
       "          [[ 2.3118e-01,  1.4044e+00],\n",
       "           [ 6.9072e-01,  1.8177e+00]]],\n",
       "\n",
       "\n",
       "         [[[ 2.3947e+00, -1.0887e+00],\n",
       "           [-1.9979e-01,  1.5677e+00]],\n",
       "\n",
       "          [[-6.7830e-01, -1.3908e+00],\n",
       "           [-9.1492e-01, -1.2559e+00]]],\n",
       "\n",
       "\n",
       "         [[[ 3.0452e-01, -2.0032e+00],\n",
       "           [ 2.7438e-01, -1.6428e+00]],\n",
       "\n",
       "          [[-1.0949e+00, -2.9161e-01],\n",
       "           [-1.4696e+00,  4.6396e-01]]],\n",
       "\n",
       "\n",
       "         [[[ 1.2773e+00, -2.1622e+00],\n",
       "           [ 1.6060e+00, -7.3602e-01]],\n",
       "\n",
       "          [[-3.2492e-01, -1.5989e+00],\n",
       "           [ 1.1991e+00, -9.3434e-01]]],\n",
       "\n",
       "\n",
       "         [[[-1.2903e+00,  4.2645e-02],\n",
       "           [-1.6908e+00, -3.1134e+00]],\n",
       "\n",
       "          [[ 2.1537e+00, -2.9256e+00],\n",
       "           [-8.0567e-01, -1.0693e+00]]],\n",
       "\n",
       "\n",
       "         [[[-7.6708e-02,  1.6690e+00],\n",
       "           [-1.8491e+00, -1.8354e-01]],\n",
       "\n",
       "          [[-5.0939e-01,  8.5770e-01],\n",
       "           [ 2.0261e-01,  2.0281e+00]]],\n",
       "\n",
       "\n",
       "         [[[ 3.3132e+00,  4.7786e-01],\n",
       "           [-9.5952e-01, -2.1097e+00]],\n",
       "\n",
       "          [[ 9.1379e-01, -2.8699e+00],\n",
       "           [ 3.5868e-01, -1.1102e+00]]],\n",
       "\n",
       "\n",
       "         [[[ 2.5743e+00, -1.4772e+00],\n",
       "           [-1.3188e+00,  1.9672e+00]],\n",
       "\n",
       "          [[-4.9295e-01,  2.5011e+00],\n",
       "           [-1.5957e+00, -1.3094e+00]]],\n",
       "\n",
       "\n",
       "         [[[ 1.0903e-01,  1.8366e+00],\n",
       "           [-3.6116e-01, -2.6557e-02]],\n",
       "\n",
       "          [[-8.7647e-02, -3.4008e-01],\n",
       "           [-6.2731e-01, -9.2773e-02]]],\n",
       "\n",
       "\n",
       "         [[[-5.9571e-01, -1.5435e+00],\n",
       "           [ 5.9566e-01,  1.3935e+00]],\n",
       "\n",
       "          [[ 8.9829e-01,  2.9074e+00],\n",
       "           [-1.1585e+00, -3.3219e-01]]],\n",
       "\n",
       "\n",
       "         [[[-1.0544e+00, -1.1639e+00],\n",
       "           [-2.3592e+00, -3.8016e-01]],\n",
       "\n",
       "          [[ 1.7689e+00, -1.0285e+00],\n",
       "           [-4.3124e-01,  2.3654e+00]]],\n",
       "\n",
       "\n",
       "         [[[-8.4749e-01,  2.6869e+00],\n",
       "           [-1.2196e+00, -2.2635e-01]],\n",
       "\n",
       "          [[ 1.6354e+00, -4.7091e-01],\n",
       "           [-1.3339e-01, -4.4625e-01]]],\n",
       "\n",
       "\n",
       "         [[[ 4.6854e-01, -4.0608e-01],\n",
       "           [ 1.1468e+00, -5.3537e-01]],\n",
       "\n",
       "          [[-2.2054e+00,  7.2908e-02],\n",
       "           [ 1.3808e+00,  1.7227e+00]]],\n",
       "\n",
       "\n",
       "         [[[-1.2776e+00,  8.9162e-01],\n",
       "           [ 1.5366e+00, -1.3188e-01]],\n",
       "\n",
       "          [[-1.3900e+00,  7.3995e-01],\n",
       "           [ 7.6135e-01,  1.3634e+00]]],\n",
       "\n",
       "\n",
       "         [[[ 6.8261e-01, -5.1020e-01],\n",
       "           [-1.7859e+00,  1.1032e-01]],\n",
       "\n",
       "          [[ 4.9460e-01,  6.8976e-02],\n",
       "           [-1.6233e+00, -1.5686e+00]]],\n",
       "\n",
       "\n",
       "         [[[ 4.7170e-01,  2.4526e+00],\n",
       "           [ 2.1505e+00,  1.8731e+00]],\n",
       "\n",
       "          [[ 4.6228e-01,  3.3191e-01],\n",
       "           [-4.0122e-01, -4.6309e-01]]],\n",
       "\n",
       "\n",
       "         [[[-4.8432e-01,  2.5340e+00],\n",
       "           [ 1.4825e+00,  3.9560e-02]],\n",
       "\n",
       "          [[-1.6737e+00,  2.4654e-02],\n",
       "           [-1.4340e+00, -1.3292e+00]]]]], grad_fn=<ThnnConv3DBackward>)"
      ]
     },
     "execution_count": 13,
     "metadata": {},
     "output_type": "execute_result"
    }
   ],
   "source": [
    "ScaleConv3d(3, 32, 3, np.sqrt(2))(torch.randn(1, 3, 4, 4, 4))"
   ]
  },
  {
   "cell_type": "code",
   "execution_count": 14,
   "metadata": {},
   "outputs": [],
   "source": [
    "class DiscriminatorBlock(nn.Sequential):\n",
    "    def __init__(self, filters_in, filters_out):\n",
    "        super(DiscriminatorBlock, self).__init__()\n",
    "        \n",
    "        self.conv1 = ScaleConv3d(filters_in, filters_in, 3, padding=1, gain=np.sqrt(2))\n",
    "        self.conv2 = ScaleConv3d(filters_in, filters_out, 3, padding=1, gain=np.sqrt(2))\n",
    "        self.lrelu = nn.LeakyReLU()\n",
    "        self.downsampling = nn.AvgPool3d(2)\n",
    "    \n",
    "    def forward(self, input):\n",
    "        x = self.conv1(input)\n",
    "        x = self.lrelu(x)\n",
    "        x = self.conv2(x)\n",
    "        x = self.lrelu(x)\n",
    "        x = self.downsampling(x)\n",
    "        return x\n",
    "        \n",
    "        \n"
   ]
  },
  {
   "cell_type": "code",
   "execution_count": 15,
   "metadata": {},
   "outputs": [],
   "source": [
    "class FromRGB(nn.Sequential):\n",
    "    def __init__(self, filters):\n",
    "        super(FromRGB, self).__init__()\n",
    "        self.fromrgb = nn.Sequential(\n",
    "            ScaleConv3d(1, filters, 3, padding=1, gain=np.sqrt(2)),\n",
    "            nn.LeakyReLU()\n",
    "        )\n",
    "    \n",
    "    def forward(self, input):\n",
    "        return self.fromrgb(input)\n"
   ]
  },
  {
   "cell_type": "code",
   "execution_count": 20,
   "metadata": {},
   "outputs": [],
   "source": [
    "class MinibatchStandardDeviation(nn.Module):\n",
    "    def __init__(self, group_size=4):\n",
    "        super(MinibatchStandardDeviation, self).__init__()\n",
    "        self.group_size = group_size\n",
    "        \n",
    "    def forward(self, input):\n",
    "        group_size = min(self.group_size, input.shape[0])\n",
    "        if group_size < len(input):\n",
    "            for i in range(group_size, len(input) + 1):\n",
    "                if len(input) % i == 0:\n",
    "                    group_size = i\n",
    "                    break\n",
    "        \n",
    "        s = input.shape\n",
    "        y = input.view([group_size, -1, s[1], s[2], s[3], s[4]])\n",
    "        y -= torch.mean(y, dim=0, keepdim=True)                     \n",
    "        y = torch.mean(y ** 2, dim=0)                           \n",
    "        y = torch.sqrt(y + 1e-8)\n",
    "        y = torch.mean(y, dim=[1, 2, 3, 4], keepdim=True)\n",
    "        y = y.repeat([group_size, 1, s[2], s[3], s[4]])\n",
    "        return torch.cat([input, y], dim=1)                            \n"
   ]
  },
  {
   "cell_type": "code",
   "execution_count": 21,
   "metadata": {},
   "outputs": [
    {
     "data": {
      "text/plain": [
       "torch.Size([21, 257, 2, 8, 8])"
      ]
     },
     "execution_count": 21,
     "metadata": {},
     "output_type": "execute_result"
    }
   ],
   "source": [
    "MinibatchStandardDeviation()(torch.randn(21, 256, 2, 8, 8)).shape"
   ]
  },
  {
   "cell_type": "code",
   "execution_count": 22,
   "metadata": {},
   "outputs": [],
   "source": [
    "class Discriminator(nn.Module):\n",
    "    def __init__(self, phase, num_phases, base_dim, latent_dim, base_shape):\n",
    "        super(Discriminator, self).__init__()\n",
    "        filters_out = num_filters(phase, num_phases, base_dim)\n",
    "        self.phase = phase\n",
    "        self.fromrgb = FromRGB(filters_out)\n",
    "        self.blocks = nn.ModuleDict()\n",
    "        self.fromrgbs = nn.ModuleDict()\n",
    "        for i in reversed(range(1, phase)):\n",
    "            filters_in = num_filters(i + 1, num_phases, base_dim)\n",
    "            filters_out = num_filters(i, num_phases, base_dim)\n",
    "            self.blocks[f'discriminator_block_{i + 1}'] = DiscriminatorBlock(filters_in, filters_out)\n",
    "            self.fromrgbs[f'from_rgb_{i}'] = FromRGB(filters_out)\n",
    "            \n",
    "        self.downscale = nn.AvgPool3d(2)\n",
    "            \n",
    "        print(np.product(base_shape) * base_dim)\n",
    "        self.discriminator_out = nn.Sequential(\n",
    "            MinibatchStandardDeviation(),\n",
    "            ScaleConv3d(filters_out + 1, base_dim, 3, padding=1, gain=np.sqrt(2)),\n",
    "            nn.LeakyReLU(),\n",
    "            nn.Flatten(),\n",
    "            ScaleLinear(np.product(base_shape) * base_dim, latent_dim, gain=np.sqrt(2)),\n",
    "            nn.LeakyReLU(),\n",
    "            ScaleLinear(latent_dim, 1, gain=1)\n",
    "        )\n",
    "        \n",
    "        self.device = torch.device('cuda' if torch.cuda.is_available() else 'cpu')\n",
    "        self.to(self.device)\n",
    "    \n",
    "    def forward(self, input, alpha=0):\n",
    "        \n",
    "        input = input.to(self.device)\n",
    "        \n",
    "        x_downscale = input.clone()\n",
    "        \n",
    "        x = self.fromrgb(input)\n",
    "                                \n",
    "        for i in reversed(range(1, self.phase)):\n",
    "            x = self.blocks[f'discriminator_block_{i + 1}'](x)\n",
    "            \n",
    "            x_downscale = self.downscale(x_downscale)\n",
    "            fromrgb_prev = self.fromrgbs[f'from_rgb_{i}'](x_downscale)\n",
    "            x = alpha * fromrgb_prev + (1 - alpha) * x\n",
    "            \n",
    "        x = self.discriminator_out(x)\n",
    "        return x\n",
    "            \n",
    "        \n",
    "            \n",
    "        "
   ]
  },
  {
   "cell_type": "code",
   "execution_count": 23,
   "metadata": {},
   "outputs": [
    {
     "data": {
      "text/plain": [
       "True"
      ]
     },
     "execution_count": 23,
     "metadata": {},
     "output_type": "execute_result"
    }
   ],
   "source": [
    "torch.cuda.is_available()"
   ]
  },
  {
   "cell_type": "code",
   "execution_count": 24,
   "metadata": {},
   "outputs": [],
   "source": [
    "phase = 5\n",
    "size = 2 * 2 ** phase"
   ]
  },
  {
   "cell_type": "code",
   "execution_count": 25,
   "metadata": {},
   "outputs": [
    {
     "name": "stdout",
     "output_type": "stream",
     "text": [
      "27 torch.Size([128, 1, 3, 3, 3])\n",
      "0.2721655269759087\n",
      "3456 torch.Size([128, 128, 3, 3, 3])\n",
      "0.024056261216234408\n",
      "3456 torch.Size([256, 128, 3, 3, 3])\n",
      "0.024056261216234408\n",
      "27 torch.Size([256, 1, 3, 3, 3])\n",
      "0.2721655269759087\n",
      "6912 torch.Size([256, 256, 3, 3, 3])\n",
      "0.017010345435994292\n",
      "6912 torch.Size([256, 256, 3, 3, 3])\n",
      "0.017010345435994292\n",
      "27 torch.Size([256, 1, 3, 3, 3])\n",
      "0.2721655269759087\n",
      "6912 torch.Size([256, 256, 3, 3, 3])\n",
      "0.017010345435994292\n",
      "6912 torch.Size([256, 256, 3, 3, 3])\n",
      "0.017010345435994292\n",
      "27 torch.Size([256, 1, 3, 3, 3])\n",
      "0.2721655269759087\n",
      "6912 torch.Size([256, 256, 3, 3, 3])\n",
      "0.017010345435994292\n",
      "6912 torch.Size([256, 256, 3, 3, 3])\n",
      "0.017010345435994292\n",
      "27 torch.Size([256, 1, 3, 3, 3])\n",
      "0.2721655269759087\n",
      "4096\n",
      "6939 torch.Size([256, 257, 3, 3, 3])\n",
      "0.01697721912327874\n",
      "0.02209708691207961\n",
      "0.0625\n"
     ]
    }
   ],
   "source": [
    "d = Discriminator(phase, 8, 256, 256, (1, 4, 4))"
   ]
  },
  {
   "cell_type": "code",
   "execution_count": 26,
   "metadata": {},
   "outputs": [],
   "source": [
    "x = torch.randn(1, 1, size // 4, size, size).to(d.device)"
   ]
  },
  {
   "cell_type": "code",
   "execution_count": 27,
   "metadata": {},
   "outputs": [
    {
     "data": {
      "text/plain": [
       "torch.Size([1, 1])"
      ]
     },
     "execution_count": 27,
     "metadata": {},
     "output_type": "execute_result"
    }
   ],
   "source": [
    "d(x, 0.5).shape"
   ]
  },
  {
   "cell_type": "code",
   "execution_count": 28,
   "metadata": {},
   "outputs": [],
   "source": [
    "def count_parameters(model):\n",
    "    return sum(p.numel() for p in model.parameters() if p.requires_grad)\n"
   ]
  },
  {
   "cell_type": "code",
   "execution_count": 29,
   "metadata": {},
   "outputs": [
    {
     "data": {
      "text/plain": [
       "14803841"
      ]
     },
     "execution_count": 29,
     "metadata": {},
     "output_type": "execute_result"
    }
   ],
   "source": [
    "count_parameters(d)"
   ]
  },
  {
   "cell_type": "code",
   "execution_count": 30,
   "metadata": {},
   "outputs": [],
   "source": [
    "class ChannelNormalization(nn.Module):\n",
    "    def __init__(self):\n",
    "        super(ChannelNormalization, self).__init__()\n",
    "\n",
    "    def forward(self, input):\n",
    "        return input * torch.rsqrt(torch.mean(input ** 2, dim=-1, keepdim=True) + 1e-8)\n"
   ]
  },
  {
   "cell_type": "code",
   "execution_count": 31,
   "metadata": {},
   "outputs": [],
   "source": [
    "class GeneratorBlock(nn.Sequential):\n",
    "    def __init__(self, filters_in, filters_out):\n",
    "        super(GeneratorBlock, self).__init__()\n",
    "        self.upsampling = nn.Upsample(scale_factor=2)\n",
    "        self.conv1 = ScaleConv3d(filters_in, filters_out, 3, padding=1, gain=np.sqrt(2))\n",
    "        self.conv2 = ScaleConv3d(filters_out, filters_out, 3, padding=1, gain=np.sqrt(2))\n",
    "        self.lrelu = nn.LeakyReLU()\n",
    "        self.cn = ChannelNormalization()\n",
    "    \n",
    "    def forward(self, input):\n",
    "        x = self.upsampling(input)\n",
    "        x = self.conv1(x)\n",
    "        x = self.lrelu(x)\n",
    "        x = self.cn(x)\n",
    "        x = self.conv2(x)\n",
    "        x = self.lrelu(x)\n",
    "        x = self.cn(x)\n",
    "        return x\n",
    "        \n",
    "        \n"
   ]
  },
  {
   "cell_type": "code",
   "execution_count": 32,
   "metadata": {},
   "outputs": [],
   "source": [
    "class ToRGB(nn.Sequential):\n",
    "    def __init__(self, filters_in, channels=1):\n",
    "        super(ToRGB, self).__init__()\n",
    "        self.conv = ScaleConv3d(filters_in, channels, 3, padding=1, gain=1)\n",
    "        \n",
    "    def forward(self, input):\n",
    "        return self.conv(input)"
   ]
  },
  {
   "cell_type": "code",
   "execution_count": 33,
   "metadata": {},
   "outputs": [
    {
     "name": "stdout",
     "output_type": "stream",
     "text": [
      "6912 torch.Size([1, 256, 3, 3, 3])\n",
      "0.012028130608117204\n"
     ]
    }
   ],
   "source": [
    "torgb = ToRGB(256)"
   ]
  },
  {
   "cell_type": "code",
   "execution_count": 34,
   "metadata": {},
   "outputs": [],
   "source": [
    "class Reshape(nn.Module):\n",
    "    def __init__(self, shape):\n",
    "        super(Reshape, self).__init__()\n",
    "        self.shape = shape\n",
    "\n",
    "    def forward(self, input):\n",
    "        return torch.reshape(input, self.shape)"
   ]
  },
  {
   "cell_type": "code",
   "execution_count": 35,
   "metadata": {},
   "outputs": [],
   "source": [
    "class Generator(nn.Module):\n",
    "    def __init__(self, phase, num_phases, base_dim, latent_dim, base_shape):\n",
    "        super(Generator, self).__init__()\n",
    "        self.phase = phase\n",
    "        self.latent_dim = latent_dim\n",
    "        filters = base_dim\n",
    "        self.generator_in = nn.Sequential(\n",
    "            ScaleLinear(latent_dim, np.product(base_shape) * filters, gain=np.sqrt(2) / 4),\n",
    "            nn.LeakyReLU(),\n",
    "            Reshape([-1, filters] + list(base_shape)),\n",
    "            ScaleConv3d(filters, filters, 3, padding=1, gain=np.sqrt(2)),\n",
    "            nn.LeakyReLU(),\n",
    "            ChannelNormalization()\n",
    "        )\n",
    "        \n",
    "        self.to_rgb_1 = ToRGB(filters)\n",
    "        \n",
    "        self.blocks = nn.ModuleDict()\n",
    "        self.to_rgbs = nn.ModuleDict()\n",
    "        \n",
    "        for i in range(1, phase):\n",
    "            filters_in = num_filters(i, num_phases, base_dim)\n",
    "            filters_out = num_filters(i + 1, num_phases, base_dim)\n",
    "            self.blocks[f'generator_block_{i + 1}'] = GeneratorBlock(filters_in, filters_out)\n",
    "            self.to_rgbs[f'to_rgb_{i + 1}'] = ToRGB(filters_out)\n",
    "            \n",
    "        self.upsample = nn.Upsample(scale_factor=2)\n",
    "        \n",
    "        self.device = torch.device('cuda' if torch.cuda.is_available() else 'cpu')\n",
    "        self.to(self.device)\n",
    "            \n",
    "    \n",
    "    def forward(self, input, alpha=0):\n",
    "        input = input.to(self.device)\n",
    "        \n",
    "        x = self.generator_in(input)\n",
    "        \n",
    "        images_out = self.to_rgb_1(x)\n",
    "        \n",
    "        for i in range(1, self.phase):\n",
    "            x = self.blocks[f'generator_block_{i + 1}'](x)\n",
    "            img_gen = self.to_rgbs[f'to_rgb_{i + 1}'](x)\n",
    "            images_out = alpha * (self.upsample(images_out)) + (1 - alpha) * img_gen\n",
    "        \n",
    "        return images_out"
   ]
  },
  {
   "cell_type": "code",
   "execution_count": 36,
   "metadata": {},
   "outputs": [
    {
     "name": "stdout",
     "output_type": "stream",
     "text": [
      "0.02209708691207961\n",
      "6912 torch.Size([256, 256, 3, 3, 3])\n",
      "0.017010345435994292\n",
      "6912 torch.Size([1, 256, 3, 3, 3])\n",
      "0.012028130608117204\n",
      "6912 torch.Size([256, 256, 3, 3, 3])\n",
      "0.017010345435994292\n",
      "6912 torch.Size([256, 256, 3, 3, 3])\n",
      "0.017010345435994292\n",
      "6912 torch.Size([1, 256, 3, 3, 3])\n",
      "0.012028130608117204\n",
      "6912 torch.Size([256, 256, 3, 3, 3])\n",
      "0.017010345435994292\n",
      "6912 torch.Size([256, 256, 3, 3, 3])\n",
      "0.017010345435994292\n",
      "6912 torch.Size([1, 256, 3, 3, 3])\n",
      "0.012028130608117204\n",
      "6912 torch.Size([256, 256, 3, 3, 3])\n",
      "0.017010345435994292\n",
      "6912 torch.Size([256, 256, 3, 3, 3])\n",
      "0.017010345435994292\n",
      "6912 torch.Size([1, 256, 3, 3, 3])\n",
      "0.012028130608117204\n",
      "6912 torch.Size([128, 256, 3, 3, 3])\n",
      "0.017010345435994292\n",
      "3456 torch.Size([128, 128, 3, 3, 3])\n",
      "0.024056261216234408\n",
      "3456 torch.Size([1, 128, 3, 3, 3])\n",
      "0.017010345435994292\n"
     ]
    }
   ],
   "source": [
    "g = Generator(5, 8, 256, 256, (1, 4, 4))"
   ]
  },
  {
   "cell_type": "code",
   "execution_count": 37,
   "metadata": {},
   "outputs": [],
   "source": [
    "x = torch.randn(1, 256).to(g.device)"
   ]
  },
  {
   "cell_type": "code",
   "execution_count": 38,
   "metadata": {},
   "outputs": [
    {
     "data": {
      "text/plain": [
       "14799237"
      ]
     },
     "execution_count": 38,
     "metadata": {},
     "output_type": "execute_result"
    }
   ],
   "source": [
    "count_parameters(g)"
   ]
  },
  {
   "cell_type": "code",
   "execution_count": 70,
   "metadata": {},
   "outputs": [
    {
     "name": "stdout",
     "output_type": "stream",
     "text": [
      "27 torch.Size([256, 1, 3, 3, 3])\n",
      "0.2721655269759087\n",
      "6912 torch.Size([256, 256, 3, 3, 3])\n",
      "0.017010345435994292\n",
      "6912 torch.Size([256, 256, 3, 3, 3])\n",
      "0.017010345435994292\n",
      "27 torch.Size([256, 1, 3, 3, 3])\n",
      "0.2721655269759087\n",
      "4096\n",
      "6939 torch.Size([256, 257, 3, 3, 3])\n",
      "0.01697721912327874\n",
      "0.02209708691207961\n",
      "0.0625\n",
      "0.02209708691207961\n",
      "6912 torch.Size([256, 256, 3, 3, 3])\n",
      "0.017010345435994292\n",
      "6912 torch.Size([1, 256, 3, 3, 3])\n",
      "0.012028130608117204\n",
      "6912 torch.Size([256, 256, 3, 3, 3])\n",
      "0.017010345435994292\n",
      "6912 torch.Size([256, 256, 3, 3, 3])\n",
      "0.017010345435994292\n",
      "6912 torch.Size([1, 256, 3, 3, 3])\n",
      "0.012028130608117204\n"
     ]
    }
   ],
   "source": [
    "discriminator = Discriminator(2, 8, 256, 256, (1, 4, 4))\n",
    "generator = Generator(2, 8, 256, 256, (1, 4, 4))"
   ]
  },
  {
   "cell_type": "code",
   "execution_count": 71,
   "metadata": {},
   "outputs": [],
   "source": [
    "d_optim = torch.optim.Adam(discriminator.parameters(), betas=(0, 0.9))\n",
    "g_optim = torch.optim.Adam(generator.parameters(), betas=(0, 0.9))"
   ]
  },
  {
   "cell_type": "code",
   "execution_count": 72,
   "metadata": {},
   "outputs": [],
   "source": [
    "data_loader = torch.utils.data.DataLoader(dataset_phase1, batch_size=64)"
   ]
  },
  {
   "cell_type": "code",
   "execution_count": 73,
   "metadata": {},
   "outputs": [],
   "source": [
    "def wasserstein_loss(y_pred):\n",
    "    return y_pred.mean()"
   ]
  },
  {
   "cell_type": "code",
   "execution_count": 74,
   "metadata": {},
   "outputs": [],
   "source": [
    "def gradient_penalty_loss(y_pred, \n",
    "                          averaged_samples,\n",
    "                          gradient_penalty_weight=10):\n",
    "    \n",
    "    grad_outputs = torch.ones_like(y_pred).to(y_pred.device)\n",
    "    gradients = torch.autograd.grad(\n",
    "        y_pred, \n",
    "        inputs=averaged_samples,\n",
    "        grad_outputs=grad_outputs,\n",
    "        create_graph=True, \n",
    "        retain_graph=True)[0]\n",
    "    \n",
    "    gradients_sqr = gradients ** 2\n",
    "    gradients_sqr_sum = torch.sum(gradients_sqr, \n",
    "                                  dim=tuple(range(1, len(gradients_sqr.shape))))\n",
    "    gradient_l2_norm = torch.sqrt(gradients_sqr_sum)\n",
    "    gradient_penalty = gradient_penalty_weight * (1 - gradient_l2_norm) ** 2\n",
    "    return torch.mean(gradient_penalty)\n"
   ]
  },
  {
   "cell_type": "code",
   "execution_count": 75,
   "metadata": {},
   "outputs": [],
   "source": [
    "def random_weighted_average(tensor_a, tensor_b):\n",
    "    weights = torch.rand_like(tensor_a).to(tensor_a.device)\n",
    "    return weights * tensor_a + (1 - weights) * tensor_b"
   ]
  },
  {
   "cell_type": "code",
   "execution_count": 76,
   "metadata": {},
   "outputs": [],
   "source": [
    "import matplotlib.pyplot as plt"
   ]
  },
  {
   "cell_type": "code",
   "execution_count": 77,
   "metadata": {},
   "outputs": [],
   "source": [
    "def train_epoch(data_loader, generator, discriminator, generator_optim, discriminator_optim, alpha):\n",
    "    \n",
    "    d_losses = []\n",
    "    g_losses = []\n",
    "    \n",
    "    for i, x_real in enumerate(data_loader):\n",
    "        \n",
    "        # Train discriminator.\n",
    "        generator.eval()\n",
    "        discriminator.train()\n",
    "        \n",
    "        x_real = x_real.to(discriminator.device)\n",
    "        z = torch.randn(x_real.shape[0], generator.latent_dim)\n",
    "        x_fake = generator(z, alpha)\n",
    "        \n",
    "        d_real = discriminator(x_real, alpha)\n",
    "        d_fake = discriminator(x_fake, alpha)\n",
    "        \n",
    "        averaged_samples = torch.autograd.Variable(random_weighted_average(x_fake, x_real),\n",
    "                                          requires_grad=True)\n",
    "        d_avg = discriminator(averaged_samples, alpha)\n",
    "        \n",
    "        gp_loss = gradient_penalty_loss(d_avg, averaged_samples)\n",
    "        real_loss = wasserstein_loss(d_real)\n",
    "        fake_loss = wasserstein_loss(d_fake)\n",
    "        \n",
    "        d_loss = real_loss - fake_loss + gp_loss\n",
    "        \n",
    "        discriminator_optim.zero_grad()\n",
    "        d_loss.backward()\n",
    "        discriminator_optim.step()\n",
    "        \n",
    "        d_losses.append(d_loss.item())\n",
    "        \n",
    "        # Train generator.\n",
    "        generator.train()\n",
    "        discriminator.eval()\n",
    "        \n",
    "        z = torch.randn(x_real.shape[0], generator.latent_dim)\n",
    "        x_fake = generator(z)\n",
    "        d_fake = discriminator(x_fake)\n",
    "        g_loss = wasserstein_loss(d_fake)\n",
    "        \n",
    "        generator_optim.zero_grad()\n",
    "        g_loss.backward()\n",
    "        generator_optim.step()\n",
    "        \n",
    "        g_losses.append(g_loss.item())\n",
    "        \n",
    "        if i % 50 == 0:\n",
    "            print(g_loss.item(), d_loss.item())\n",
    "           \n",
    "    print(\"Real\")\n",
    "    print(x_real.shape)\n",
    "    plt.imshow(x_real[0, 0, 0].squeeze().cpu().detach().numpy())\n",
    "    plt.show()\n",
    "\n",
    "    print(\"Fake\")\n",
    "    plt.imshow(x_fake[0, 0, 0].squeeze().cpu().detach().numpy())\n",
    "    plt.show()          \n",
    "    return np.mean(d_losses), np.mean(g_losses)\n",
    "        "
   ]
  },
  {
   "cell_type": "code",
   "execution_count": null,
   "metadata": {},
   "outputs": [
    {
     "name": "stdout",
     "output_type": "stream",
     "text": [
      "0.0017818266060203314 8.892388343811035\n",
      "Real\n",
      "torch.Size([34, 1, 2, 8, 8])\n"
     ]
    },
    {
     "data": {
      "image/png": "[encoded data removed]",
      "text/plain": [
       "<Figure size 432x288 with 1 Axes>"
      ]
     },
     "metadata": {
      "needs_background": "light"
     },
     "output_type": "display_data"
    },
    {
     "name": "stdout",
     "output_type": "stream",
     "text": [
      "Fake\n"
     ]
    },
    {
     "data": {
      "image/png": "[encoded data removed]",
      "text/plain": [
       "<Figure size 432x288 with 1 Axes>"
      ]
     },
     "metadata": {
      "needs_background": "light"
     },
     "output_type": "display_data"
    },
    {
     "name": "stdout",
     "output_type": "stream",
     "text": [
      "0.08140793442726135 7.318933963775635\n",
      "Real\n",
      "torch.Size([34, 1, 2, 8, 8])\n"
     ]
    },
    {
     "data": {
      "image/png": "[encoded data removed]",
      "text/plain": [
       "<Figure size 432x288 with 1 Axes>"
      ]
     },
     "metadata": {
      "needs_background": "light"
     },
     "output_type": "display_data"
    },
    {
     "name": "stdout",
     "output_type": "stream",
     "text": [
      "Fake\n"
     ]
    },
    {
     "data": {
      "image/png": "[encoded data removed]",
      "text/plain": [
       "<Figure size 432x288 with 1 Axes>"
      ]
     },
     "metadata": {
      "needs_background": "light"
     },
     "output_type": "display_data"
    },
    {
     "name": "stdout",
     "output_type": "stream",
     "text": [
      "0.1950497329235077 4.440647602081299\n",
      "Real\n",
      "torch.Size([34, 1, 2, 8, 8])\n"
     ]
    },
    {
     "data": {
      "image/png": "[encoded data removed]",
      "text/plain": [
       "<Figure size 432x288 with 1 Axes>"
      ]
     },
     "metadata": {
      "needs_background": "light"
     },
     "output_type": "display_data"
    },
    {
     "name": "stdout",
     "output_type": "stream",
     "text": [
      "Fake\n"
     ]
    },
    {
     "data": {
      "image/png": "[encoded data removed]",
      "text/plain": [
       "<Figure size 432x288 with 1 Axes>"
      ]
     },
     "metadata": {
      "needs_background": "light"
     },
     "output_type": "display_data"
    },
    {
     "name": "stdout",
     "output_type": "stream",
     "text": [
      "0.239976704120636 1.5599300861358643\n",
      "Real\n",
      "torch.Size([34, 1, 2, 8, 8])\n"
     ]
    },
    {
     "data": {
      "image/png": "[encoded data removed]",
      "text/plain": [
       "<Figure size 432x288 with 1 Axes>"
      ]
     },
     "metadata": {
      "needs_background": "light"
     },
     "output_type": "display_data"
    },
    {
     "name": "stdout",
     "output_type": "stream",
     "text": [
      "Fake\n"
     ]
    },
    {
     "data": {
      "image/png": "[encoded data removed]",
      "text/plain": [
       "<Figure size 432x288 with 1 Axes>"
      ]
     },
     "metadata": {
      "needs_background": "light"
     },
     "output_type": "display_data"
    },
    {
     "name": "stdout",
     "output_type": "stream",
     "text": [
      "0.20331193506717682 -0.7265087366104126\n",
      "Real\n",
      "torch.Size([34, 1, 2, 8, 8])\n"
     ]
    },
    {
     "data": {
      "image/png": "[encoded data removed]",
      "text/plain": [
       "<Figure size 432x288 with 1 Axes>"
      ]
     },
     "metadata": {
      "needs_background": "light"
     },
     "output_type": "display_data"
    },
    {
     "name": "stdout",
     "output_type": "stream",
     "text": [
      "Fake\n"
     ]
    },
    {
     "data": {
      "image/png": "[encoded data removed]",
      "text/plain": [
       "<Figure size 432x288 with 1 Axes>"
      ]
     },
     "metadata": {
      "needs_background": "light"
     },
     "output_type": "display_data"
    },
    {
     "name": "stdout",
     "output_type": "stream",
     "text": [
      "0.12479601055383682 -2.388756275177002\n",
      "Real\n",
      "torch.Size([34, 1, 2, 8, 8])\n"
     ]
    },
    {
     "data": {
      "image/png": "[encoded data removed]",
      "text/plain": [
       "<Figure size 432x288 with 1 Axes>"
      ]
     },
     "metadata": {
      "needs_background": "light"
     },
     "output_type": "display_data"
    },
    {
     "name": "stdout",
     "output_type": "stream",
     "text": [
      "Fake\n"
     ]
    },
    {
     "data": {
      "image/png": "[encoded data removed]",
      "text/plain": [
       "<Figure size 432x288 with 1 Axes>"
      ]
     },
     "metadata": {
      "needs_background": "light"
     },
     "output_type": "display_data"
    },
    {
     "name": "stdout",
     "output_type": "stream",
     "text": [
      "0.034225814044475555 -3.0308454036712646\n",
      "Real\n",
      "torch.Size([34, 1, 2, 8, 8])\n"
     ]
    },
    {
     "data": {
      "image/png": "[encoded data removed]",
      "text/plain": [
       "<Figure size 432x288 with 1 Axes>"
      ]
     },
     "metadata": {
      "needs_background": "light"
     },
     "output_type": "display_data"
    },
    {
     "name": "stdout",
     "output_type": "stream",
     "text": [
      "Fake\n"
     ]
    },
    {
     "data": {
      "image/png": "[encoded data removed]",
      "text/plain": [
       "<Figure size 432x288 with 1 Axes>"
      ]
     },
     "metadata": {
      "needs_background": "light"
     },
     "output_type": "display_data"
    },
    {
     "name": "stdout",
     "output_type": "stream",
     "text": [
      "-0.036842793226242065 -3.3236446380615234\n",
      "Real\n",
      "torch.Size([34, 1, 2, 8, 8])\n"
     ]
    },
    {
     "data": {
      "image/png": "[encoded data removed]",
      "text/plain": [
       "<Figure size 432x288 with 1 Axes>"
      ]
     },
     "metadata": {
      "needs_background": "light"
     },
     "output_type": "display_data"
    },
    {
     "name": "stdout",
     "output_type": "stream",
     "text": [
      "Fake\n"
     ]
    },
    {
     "data": {
      "image/png": "[encoded data removed]",
      "text/plain": [
       "<Figure size 432x288 with 1 Axes>"
      ]
     },
     "metadata": {
      "needs_background": "light"
     },
     "output_type": "display_data"
    },
    {
     "name": "stdout",
     "output_type": "stream",
     "text": [
      "-0.13059735298156738 -3.486013412475586\n",
      "Real\n",
      "torch.Size([34, 1, 2, 8, 8])\n"
     ]
    },
    {
     "data": {
      "image/png": "[encoded data removed]",
      "text/plain": [
       "<Figure size 432x288 with 1 Axes>"
      ]
     },
     "metadata": {
      "needs_background": "light"
     },
     "output_type": "display_data"
    },
    {
     "name": "stdout",
     "output_type": "stream",
     "text": [
      "Fake\n"
     ]
    },
    {
     "data": {
      "image/png": "[encoded data removed]",
      "text/plain": [
       "<Figure size 432x288 with 1 Axes>"
      ]
     },
     "metadata": {
      "needs_background": "light"
     },
     "output_type": "display_data"
    },
    {
     "name": "stdout",
     "output_type": "stream",
     "text": [
      "-0.25104469060897827 -4.194472312927246\n",
      "Real\n",
      "torch.Size([34, 1, 2, 8, 8])\n"
     ]
    },
    {
     "data": {
      "image/png": "[encoded data removed]",
      "text/plain": [
       "<Figure size 432x288 with 1 Axes>"
      ]
     },
     "metadata": {
      "needs_background": "light"
     },
     "output_type": "display_data"
    },
    {
     "name": "stdout",
     "output_type": "stream",
     "text": [
      "Fake\n"
     ]
    },
    {
     "data": {
      "image/png": "[encoded data removed]",
      "text/plain": [
       "<Figure size 432x288 with 1 Axes>"
      ]
     },
     "metadata": {
      "needs_background": "light"
     },
     "output_type": "display_data"
    },
    {
     "name": "stdout",
     "output_type": "stream",
     "text": [
      "-0.4084758758544922 -4.4303765296936035\n",
      "Real\n",
      "torch.Size([34, 1, 2, 8, 8])\n"
     ]
    },
    {
     "data": {
      "image/png": "[encoded data removed]",
      "text/plain": [
       "<Figure size 432x288 with 1 Axes>"
      ]
     },
     "metadata": {
      "needs_background": "light"
     },
     "output_type": "display_data"
    },
    {
     "name": "stdout",
     "output_type": "stream",
     "text": [
      "Fake\n"
     ]
    },
    {
     "data": {
      "image/png": "[encoded data removed]",
      "text/plain": [
       "<Figure size 432x288 with 1 Axes>"
      ]
     },
     "metadata": {
      "needs_background": "light"
     },
     "output_type": "display_data"
    },
    {
     "name": "stdout",
     "output_type": "stream",
     "text": [
      "-0.5607630014419556 -5.019156455993652\n",
      "Real\n",
      "torch.Size([34, 1, 2, 8, 8])\n"
     ]
    },
    {
     "data": {
      "image/png": "[encoded data removed]",
      "text/plain": [
       "<Figure size 432x288 with 1 Axes>"
      ]
     },
     "metadata": {
      "needs_background": "light"
     },
     "output_type": "display_data"
    },
    {
     "name": "stdout",
     "output_type": "stream",
     "text": [
      "Fake\n"
     ]
    },
    {
     "data": {
      "image/png": "[encoded data removed]",
      "text/plain": [
       "<Figure size 432x288 with 1 Axes>"
      ]
     },
     "metadata": {
      "needs_background": "light"
     },
     "output_type": "display_data"
    },
    {
     "name": "stdout",
     "output_type": "stream",
     "text": [
      "-0.7132313847541809 -5.079145431518555\n",
      "Real\n",
      "torch.Size([34, 1, 2, 8, 8])\n"
     ]
    },
    {
     "data": {
      "image/png": "[encoded data removed]",
      "text/plain": [
       "<Figure size 432x288 with 1 Axes>"
      ]
     },
     "metadata": {
      "needs_background": "light"
     },
     "output_type": "display_data"
    },
    {
     "name": "stdout",
     "output_type": "stream",
     "text": [
      "Fake\n"
     ]
    },
    {
     "data": {
      "image/png": "[encoded data removed]",
      "text/plain": [
       "<Figure size 432x288 with 1 Axes>"
      ]
     },
     "metadata": {
      "needs_background": "light"
     },
     "output_type": "display_data"
    },
    {
     "name": "stdout",
     "output_type": "stream",
     "text": [
      "-0.851354718208313 -5.472722053527832\n",
      "Real\n",
      "torch.Size([34, 1, 2, 8, 8])\n"
     ]
    },
    {
     "data": {
      "image/png": "[encoded data removed]",
      "text/plain": [
       "<Figure size 432x288 with 1 Axes>"
      ]
     },
     "metadata": {
      "needs_background": "light"
     },
     "output_type": "display_data"
    },
    {
     "name": "stdout",
     "output_type": "stream",
     "text": [
      "Fake\n"
     ]
    },
    {
     "data": {
      "image/png": "[encoded data removed]",
      "text/plain": [
       "<Figure size 432x288 with 1 Axes>"
      ]
     },
     "metadata": {
      "needs_background": "light"
     },
     "output_type": "display_data"
    },
    {
     "name": "stdout",
     "output_type": "stream",
     "text": [
      "-0.9721331596374512 -5.47064208984375\n",
      "Real\n",
      "torch.Size([34, 1, 2, 8, 8])\n"
     ]
    },
    {
     "data": {
      "image/png": "[encoded data removed]",
      "text/plain": [
       "<Figure size 432x288 with 1 Axes>"
      ]
     },
     "metadata": {
      "needs_background": "light"
     },
     "output_type": "display_data"
    },
    {
     "name": "stdout",
     "output_type": "stream",
     "text": [
      "Fake\n"
     ]
    },
    {
     "data": {
      "image/png": "[encoded data removed]",
      "text/plain": [
       "<Figure size 432x288 with 1 Axes>"
      ]
     },
     "metadata": {
      "needs_background": "light"
     },
     "output_type": "display_data"
    },
    {
     "name": "stdout",
     "output_type": "stream",
     "text": [
      "-1.0599745512008667 -5.6551289558410645\n",
      "Real\n",
      "torch.Size([34, 1, 2, 8, 8])\n"
     ]
    },
    {
     "data": {
      "image/png": "[encoded data removed]",
      "text/plain": [
       "<Figure size 432x288 with 1 Axes>"
      ]
     },
     "metadata": {
      "needs_background": "light"
     },
     "output_type": "display_data"
    },
    {
     "name": "stdout",
     "output_type": "stream",
     "text": [
      "Fake\n"
     ]
    },
    {
     "data": {
      "image/png": "[encoded data removed]",
      "text/plain": [
       "<Figure size 432x288 with 1 Axes>"
      ]
     },
     "metadata": {
      "needs_background": "light"
     },
     "output_type": "display_data"
    },
    {
     "name": "stdout",
     "output_type": "stream",
     "text": [
      "-1.1391912698745728 -5.916126251220703\n",
      "Real\n",
      "torch.Size([34, 1, 2, 8, 8])\n"
     ]
    },
    {
     "data": {
      "image/png": "[encoded data removed]",
      "text/plain": [
       "<Figure size 432x288 with 1 Axes>"
      ]
     },
     "metadata": {
      "needs_background": "light"
     },
     "output_type": "display_data"
    },
    {
     "name": "stdout",
     "output_type": "stream",
     "text": [
      "Fake\n"
     ]
    },
    {
     "data": {
      "image/png": "[encoded data removed]",
      "text/plain": [
       "<Figure size 432x288 with 1 Axes>"
      ]
     },
     "metadata": {
      "needs_background": "light"
     },
     "output_type": "display_data"
    },
    {
     "name": "stdout",
     "output_type": "stream",
     "text": [
      "-1.1636556386947632 -6.173571586608887\n",
      "Real\n",
      "torch.Size([34, 1, 2, 8, 8])\n"
     ]
    },
    {
     "data": {
      "image/png": "[encoded data removed]",
      "text/plain": [
       "<Figure size 432x288 with 1 Axes>"
      ]
     },
     "metadata": {
      "needs_background": "light"
     },
     "output_type": "display_data"
    },
    {
     "name": "stdout",
     "output_type": "stream",
     "text": [
      "Fake\n"
     ]
    },
    {
     "data": {
      "image/png": "[encoded data removed]",
      "text/plain": [
       "<Figure size 432x288 with 1 Axes>"
      ]
     },
     "metadata": {
      "needs_background": "light"
     },
     "output_type": "display_data"
    },
    {
     "name": "stdout",
     "output_type": "stream",
     "text": [
      "-1.1891919374465942 -6.355695724487305\n",
      "Real\n",
      "torch.Size([34, 1, 2, 8, 8])\n"
     ]
    },
    {
     "data": {
      "image/png": "[encoded data removed]",
      "text/plain": [
       "<Figure size 432x288 with 1 Axes>"
      ]
     },
     "metadata": {
      "needs_background": "light"
     },
     "output_type": "display_data"
    },
    {
     "name": "stdout",
     "output_type": "stream",
     "text": [
      "Fake\n"
     ]
    },
    {
     "data": {
      "image/png": "[encoded data removed]",
      "text/plain": [
       "<Figure size 432x288 with 1 Axes>"
      ]
     },
     "metadata": {
      "needs_background": "light"
     },
     "output_type": "display_data"
    },
    {
     "name": "stdout",
     "output_type": "stream",
     "text": [
      "-1.2015483379364014 -6.147730827331543\n",
      "Real\n",
      "torch.Size([34, 1, 2, 8, 8])\n"
     ]
    },
    {
     "data": {
      "image/png": "[encoded data removed]",
      "text/plain": [
       "<Figure size 432x288 with 1 Axes>"
      ]
     },
     "metadata": {
      "needs_background": "light"
     },
     "output_type": "display_data"
    },
    {
     "name": "stdout",
     "output_type": "stream",
     "text": [
      "Fake\n"
     ]
    },
    {
     "data": {
      "image/png": "[encoded data removed]",
      "text/plain": [
       "<Figure size 432x288 with 1 Axes>"
      ]
     },
     "metadata": {
      "needs_background": "light"
     },
     "output_type": "display_data"
    },
    {
     "name": "stdout",
     "output_type": "stream",
     "text": [
      "-1.2276620864868164 -6.607223987579346\n",
      "Real\n",
      "torch.Size([34, 1, 2, 8, 8])\n"
     ]
    },
    {
     "data": {
      "image/png": "[encoded data removed]",
      "text/plain": [
       "<Figure size 432x288 with 1 Axes>"
      ]
     },
     "metadata": {
      "needs_background": "light"
     },
     "output_type": "display_data"
    },
    {
     "name": "stdout",
     "output_type": "stream",
     "text": [
      "Fake\n"
     ]
    },
    {
     "data": {
      "image/png": "[encoded data removed]",
      "text/plain": [
       "<Figure size 432x288 with 1 Axes>"
      ]
     },
     "metadata": {
      "needs_background": "light"
     },
     "output_type": "display_data"
    },
    {
     "name": "stdout",
     "output_type": "stream",
     "text": [
      "-1.2554293870925903 -6.57717227935791\n",
      "Real\n",
      "torch.Size([34, 1, 2, 8, 8])\n"
     ]
    },
    {
     "data": {
      "image/png": "[encoded data removed]",
      "text/plain": [
       "<Figure size 432x288 with 1 Axes>"
      ]
     },
     "metadata": {
      "needs_background": "light"
     },
     "output_type": "display_data"
    },
    {
     "name": "stdout",
     "output_type": "stream",
     "text": [
      "Fake\n"
     ]
    },
    {
     "data": {
      "image/png": "[encoded data removed]",
      "text/plain": [
       "<Figure size 432x288 with 1 Axes>"
      ]
     },
     "metadata": {
      "needs_background": "light"
     },
     "output_type": "display_data"
    },
    {
     "name": "stdout",
     "output_type": "stream",
     "text": [
      "-1.3189319372177124 -6.519834518432617\n",
      "Real\n",
      "torch.Size([34, 1, 2, 8, 8])\n"
     ]
    },
    {
     "data": {
      "image/png": "[encoded data removed]",
      "text/plain": [
       "<Figure size 432x288 with 1 Axes>"
      ]
     },
     "metadata": {
      "needs_background": "light"
     },
     "output_type": "display_data"
    },
    {
     "name": "stdout",
     "output_type": "stream",
     "text": [
      "Fake\n"
     ]
    },
    {
     "data": {
      "image/png": "[encoded data removed]",
      "text/plain": [
       "<Figure size 432x288 with 1 Axes>"
      ]
     },
     "metadata": {
      "needs_background": "light"
     },
     "output_type": "display_data"
    },
    {
     "name": "stdout",
     "output_type": "stream",
     "text": [
      "-1.366519570350647 -6.922039031982422\n",
      "Real\n",
      "torch.Size([34, 1, 2, 8, 8])\n"
     ]
    },
    {
     "data": {
      "image/png": "[encoded data removed]",
      "text/plain": [
       "<Figure size 432x288 with 1 Axes>"
      ]
     },
     "metadata": {
      "needs_background": "light"
     },
     "output_type": "display_data"
    },
    {
     "name": "stdout",
     "output_type": "stream",
     "text": [
      "Fake\n"
     ]
    },
    {
     "data": {
      "image/png": "[encoded data removed]",
      "text/plain": [
       "<Figure size 432x288 with 1 Axes>"
      ]
     },
     "metadata": {
      "needs_background": "light"
     },
     "output_type": "display_data"
    },
    {
     "name": "stdout",
     "output_type": "stream",
     "text": [
      "-1.4195430278778076 -6.561422348022461\n",
      "Real\n",
      "torch.Size([34, 1, 2, 8, 8])\n"
     ]
    },
    {
     "data": {
      "image/png": "[encoded data removed]",
      "text/plain": [
       "<Figure size 432x288 with 1 Axes>"
      ]
     },
     "metadata": {
      "needs_background": "light"
     },
     "output_type": "display_data"
    },
    {
     "name": "stdout",
     "output_type": "stream",
     "text": [
      "Fake\n"
     ]
    },
    {
     "data": {
      "image/png": "[encoded data removed]",
      "text/plain": [
       "<Figure size 432x288 with 1 Axes>"
      ]
     },
     "metadata": {
      "needs_background": "light"
     },
     "output_type": "display_data"
    },
    {
     "name": "stdout",
     "output_type": "stream",
     "text": [
      "-1.4773496389389038 -6.8926286697387695\n",
      "Real\n",
      "torch.Size([34, 1, 2, 8, 8])\n"
     ]
    },
    {
     "data": {
      "image/png": "[encoded data removed]",
      "text/plain": [
       "<Figure size 432x288 with 1 Axes>"
      ]
     },
     "metadata": {
      "needs_background": "light"
     },
     "output_type": "display_data"
    },
    {
     "name": "stdout",
     "output_type": "stream",
     "text": [
      "Fake\n"
     ]
    },
    {
     "data": {
      "image/png": "[encoded data removed]",
      "text/plain": [
       "<Figure size 432x288 with 1 Axes>"
      ]
     },
     "metadata": {
      "needs_background": "light"
     },
     "output_type": "display_data"
    },
    {
     "name": "stdout",
     "output_type": "stream",
     "text": [
      "-1.5169609785079956 -6.880873680114746\n",
      "Real\n",
      "torch.Size([34, 1, 2, 8, 8])\n"
     ]
    },
    {
     "data": {
      "image/png": "[encoded data removed]",
      "text/plain": [
       "<Figure size 432x288 with 1 Axes>"
      ]
     },
     "metadata": {
      "needs_background": "light"
     },
     "output_type": "display_data"
    },
    {
     "name": "stdout",
     "output_type": "stream",
     "text": [
      "Fake\n"
     ]
    },
    {
     "data": {
      "image/png": "[encoded data removed]",
      "text/plain": [
       "<Figure size 432x288 with 1 Axes>"
      ]
     },
     "metadata": {
      "needs_background": "light"
     },
     "output_type": "display_data"
    },
    {
     "name": "stdout",
     "output_type": "stream",
     "text": [
      "-1.5601692199707031 -6.977299690246582\n",
      "Real\n",
      "torch.Size([34, 1, 2, 8, 8])\n"
     ]
    },
    {
     "data": {
      "image/png": "[encoded data removed]",
      "text/plain": [
       "<Figure size 432x288 with 1 Axes>"
      ]
     },
     "metadata": {
      "needs_background": "light"
     },
     "output_type": "display_data"
    },
    {
     "name": "stdout",
     "output_type": "stream",
     "text": [
      "Fake\n"
     ]
    },
    {
     "data": {
      "image/png": "[encoded data removed]",
      "text/plain": [
       "<Figure size 432x288 with 1 Axes>"
      ]
     },
     "metadata": {
      "needs_background": "light"
     },
     "output_type": "display_data"
    },
    {
     "name": "stdout",
     "output_type": "stream",
     "text": [
      "-1.5662776231765747 -6.663258075714111\n",
      "Real\n",
      "torch.Size([34, 1, 2, 8, 8])\n"
     ]
    },
    {
     "data": {
      "image/png": "[encoded data removed]",
      "text/plain": [
       "<Figure size 432x288 with 1 Axes>"
      ]
     },
     "metadata": {
      "needs_background": "light"
     },
     "output_type": "display_data"
    },
    {
     "name": "stdout",
     "output_type": "stream",
     "text": [
      "Fake\n"
     ]
    },
    {
     "data": {
      "image/png": "[encoded data removed]",
      "text/plain": [
       "<Figure size 432x288 with 1 Axes>"
      ]
     },
     "metadata": {
      "needs_background": "light"
     },
     "output_type": "display_data"
    },
    {
     "name": "stdout",
     "output_type": "stream",
     "text": [
      "-1.6043572425842285 -6.8117265701293945\n",
      "Real\n",
      "torch.Size([34, 1, 2, 8, 8])\n"
     ]
    },
    {
     "data": {
      "image/png": "[encoded data removed]",
      "text/plain": [
       "<Figure size 432x288 with 1 Axes>"
      ]
     },
     "metadata": {
      "needs_background": "light"
     },
     "output_type": "display_data"
    },
    {
     "name": "stdout",
     "output_type": "stream",
     "text": [
      "Fake\n"
     ]
    },
    {
     "data": {
      "image/png": "[encoded data removed]",
      "text/plain": [
       "<Figure size 432x288 with 1 Axes>"
      ]
     },
     "metadata": {
      "needs_background": "light"
     },
     "output_type": "display_data"
    },
    {
     "name": "stdout",
     "output_type": "stream",
     "text": [
      "-1.6151378154754639 -6.638369560241699\n",
      "Real\n",
      "torch.Size([34, 1, 2, 8, 8])\n"
     ]
    },
    {
     "data": {
      "image/png": "[encoded data removed]",
      "text/plain": [
       "<Figure size 432x288 with 1 Axes>"
      ]
     },
     "metadata": {
      "needs_background": "light"
     },
     "output_type": "display_data"
    },
    {
     "name": "stdout",
     "output_type": "stream",
     "text": [
      "Fake\n"
     ]
    },
    {
     "data": {
      "image/png": "[encoded data removed]",
      "text/plain": [
       "<Figure size 432x288 with 1 Axes>"
      ]
     },
     "metadata": {
      "needs_background": "light"
     },
     "output_type": "display_data"
    },
    {
     "name": "stdout",
     "output_type": "stream",
     "text": [
      "-1.6186561584472656 -6.810827732086182\n",
      "Real\n",
      "torch.Size([34, 1, 2, 8, 8])\n"
     ]
    },
    {
     "data": {
      "image/png": "[encoded data removed]",
      "text/plain": [
       "<Figure size 432x288 with 1 Axes>"
      ]
     },
     "metadata": {
      "needs_background": "light"
     },
     "output_type": "display_data"
    },
    {
     "name": "stdout",
     "output_type": "stream",
     "text": [
      "Fake\n"
     ]
    },
    {
     "data": {
      "image/png": "[encoded data removed]",
      "text/plain": [
       "<Figure size 432x288 with 1 Axes>"
      ]
     },
     "metadata": {
      "needs_background": "light"
     },
     "output_type": "display_data"
    },
    {
     "name": "stdout",
     "output_type": "stream",
     "text": [
      "-1.5873479843139648 -7.053680419921875\n",
      "Real\n",
      "torch.Size([34, 1, 2, 8, 8])\n"
     ]
    },
    {
     "data": {
      "image/png": "[encoded data removed]",
      "text/plain": [
       "<Figure size 432x288 with 1 Axes>"
      ]
     },
     "metadata": {
      "needs_background": "light"
     },
     "output_type": "display_data"
    },
    {
     "name": "stdout",
     "output_type": "stream",
     "text": [
      "Fake\n"
     ]
    },
    {
     "data": {
      "image/png": "[encoded data removed]",
      "text/plain": [
       "<Figure size 432x288 with 1 Axes>"
      ]
     },
     "metadata": {
      "needs_background": "light"
     },
     "output_type": "display_data"
    },
    {
     "name": "stdout",
     "output_type": "stream",
     "text": [
      "-1.5436718463897705 -7.129299640655518\n",
      "Real\n",
      "torch.Size([34, 1, 2, 8, 8])\n"
     ]
    },
    {
     "data": {
      "image/png": "[encoded data removed]",
      "text/plain": [
       "<Figure size 432x288 with 1 Axes>"
      ]
     },
     "metadata": {
      "needs_background": "light"
     },
     "output_type": "display_data"
    },
    {
     "name": "stdout",
     "output_type": "stream",
     "text": [
      "Fake\n"
     ]
    },
    {
     "data": {
      "image/png": "[encoded data removed]",
      "text/plain": [
       "<Figure size 432x288 with 1 Axes>"
      ]
     },
     "metadata": {
      "needs_background": "light"
     },
     "output_type": "display_data"
    },
    {
     "name": "stdout",
     "output_type": "stream",
     "text": [
      "-1.4744226932525635 -7.309231758117676\n",
      "Real\n",
      "torch.Size([34, 1, 2, 8, 8])\n"
     ]
    },
    {
     "data": {
      "image/png": "[encoded data removed]",
      "text/plain": [
       "<Figure size 432x288 with 1 Axes>"
      ]
     },
     "metadata": {
      "needs_background": "light"
     },
     "output_type": "display_data"
    },
    {
     "name": "stdout",
     "output_type": "stream",
     "text": [
      "Fake\n"
     ]
    },
    {
     "data": {
      "image/png": "[encoded data removed]",
      "text/plain": [
       "<Figure size 432x288 with 1 Axes>"
      ]
     },
     "metadata": {
      "needs_background": "light"
     },
     "output_type": "display_data"
    },
    {
     "name": "stdout",
     "output_type": "stream",
     "text": [
      "-1.4740307331085205 -7.121729373931885\n",
      "Real\n",
      "torch.Size([34, 1, 2, 8, 8])\n"
     ]
    },
    {
     "data": {
      "image/png": "[encoded data removed]",
      "text/plain": [
       "<Figure size 432x288 with 1 Axes>"
      ]
     },
     "metadata": {
      "needs_background": "light"
     },
     "output_type": "display_data"
    },
    {
     "name": "stdout",
     "output_type": "stream",
     "text": [
      "Fake\n"
     ]
    },
    {
     "data": {
      "image/png": "[encoded data removed]",
      "text/plain": [
       "<Figure size 432x288 with 1 Axes>"
      ]
     },
     "metadata": {
      "needs_background": "light"
     },
     "output_type": "display_data"
    },
    {
     "name": "stdout",
     "output_type": "stream",
     "text": [
      "-1.42765474319458 -7.686453819274902\n",
      "Real\n",
      "torch.Size([34, 1, 2, 8, 8])\n"
     ]
    },
    {
     "data": {
      "image/png": "[encoded data removed]",
      "text/plain": [
       "<Figure size 432x288 with 1 Axes>"
      ]
     },
     "metadata": {
      "needs_background": "light"
     },
     "output_type": "display_data"
    },
    {
     "name": "stdout",
     "output_type": "stream",
     "text": [
      "Fake\n"
     ]
    },
    {
     "data": {
      "image/png": "[encoded data removed]",
      "text/plain": [
       "<Figure size 432x288 with 1 Axes>"
      ]
     },
     "metadata": {
      "needs_background": "light"
     },
     "output_type": "display_data"
    },
    {
     "name": "stdout",
     "output_type": "stream",
     "text": [
      "-1.373172402381897 -6.866070747375488\n",
      "Real\n",
      "torch.Size([34, 1, 2, 8, 8])\n"
     ]
    },
    {
     "data": {
      "image/png": "[encoded data removed]",
      "text/plain": [
       "<Figure size 432x288 with 1 Axes>"
      ]
     },
     "metadata": {
      "needs_background": "light"
     },
     "output_type": "display_data"
    },
    {
     "name": "stdout",
     "output_type": "stream",
     "text": [
      "Fake\n"
     ]
    },
    {
     "data": {
      "image/png": "[encoded data removed]",
      "text/plain": [
       "<Figure size 432x288 with 1 Axes>"
      ]
     },
     "metadata": {
      "needs_background": "light"
     },
     "output_type": "display_data"
    },
    {
     "name": "stdout",
     "output_type": "stream",
     "text": [
      "-1.2902631759643555 -7.158987998962402\n",
      "Real\n",
      "torch.Size([34, 1, 2, 8, 8])\n"
     ]
    },
    {
     "data": {
      "image/png": "[encoded data removed]",
      "text/plain": [
       "<Figure size 432x288 with 1 Axes>"
      ]
     },
     "metadata": {
      "needs_background": "light"
     },
     "output_type": "display_data"
    },
    {
     "name": "stdout",
     "output_type": "stream",
     "text": [
      "Fake\n"
     ]
    },
    {
     "data": {
      "image/png": "[encoded data removed]",
      "text/plain": [
       "<Figure size 432x288 with 1 Axes>"
      ]
     },
     "metadata": {
      "needs_background": "light"
     },
     "output_type": "display_data"
    },
    {
     "name": "stdout",
     "output_type": "stream",
     "text": [
      "-1.2051665782928467 -8.292360305786133\n",
      "Real\n",
      "torch.Size([34, 1, 2, 8, 8])\n"
     ]
    },
    {
     "data": {
      "image/png": "[encoded data removed]",
      "text/plain": [
       "<Figure size 432x288 with 1 Axes>"
      ]
     },
     "metadata": {
      "needs_background": "light"
     },
     "output_type": "display_data"
    },
    {
     "name": "stdout",
     "output_type": "stream",
     "text": [
      "Fake\n"
     ]
    },
    {
     "data": {
      "image/png": "[encoded data removed]",
      "text/plain": [
       "<Figure size 432x288 with 1 Axes>"
      ]
     },
     "metadata": {
      "needs_background": "light"
     },
     "output_type": "display_data"
    },
    {
     "name": "stdout",
     "output_type": "stream",
     "text": [
      "-1.1493220329284668 -7.596035480499268\n",
      "Real\n",
      "torch.Size([34, 1, 2, 8, 8])\n"
     ]
    },
    {
     "data": {
      "image/png": "[encoded data removed]",
      "text/plain": [
       "<Figure size 432x288 with 1 Axes>"
      ]
     },
     "metadata": {
      "needs_background": "light"
     },
     "output_type": "display_data"
    },
    {
     "name": "stdout",
     "output_type": "stream",
     "text": [
      "Fake\n"
     ]
    },
    {
     "data": {
      "image/png": "[encoded data removed]",
      "text/plain": [
       "<Figure size 432x288 with 1 Axes>"
      ]
     },
     "metadata": {
      "needs_background": "light"
     },
     "output_type": "display_data"
    },
    {
     "name": "stdout",
     "output_type": "stream",
     "text": [
      "-0.9988689422607422 -7.283074378967285\n",
      "Real\n",
      "torch.Size([34, 1, 2, 8, 8])\n"
     ]
    },
    {
     "data": {
      "image/png": "[encoded data removed]",
      "text/plain": [
       "<Figure size 432x288 with 1 Axes>"
      ]
     },
     "metadata": {
      "needs_background": "light"
     },
     "output_type": "display_data"
    },
    {
     "name": "stdout",
     "output_type": "stream",
     "text": [
      "Fake\n"
     ]
    },
    {
     "data": {
      "image/png": "[encoded data removed]",
      "text/plain": [
       "<Figure size 432x288 with 1 Axes>"
      ]
     },
     "metadata": {
      "needs_background": "light"
     },
     "output_type": "display_data"
    },
    {
     "name": "stdout",
     "output_type": "stream",
     "text": [
      "-0.8932740688323975 -7.781860828399658\n",
      "Real\n",
      "torch.Size([34, 1, 2, 8, 8])\n"
     ]
    },
    {
     "data": {
      "image/png": "[encoded data removed]",
      "text/plain": [
       "<Figure size 432x288 with 1 Axes>"
      ]
     },
     "metadata": {
      "needs_background": "light"
     },
     "output_type": "display_data"
    },
    {
     "name": "stdout",
     "output_type": "stream",
     "text": [
      "Fake\n"
     ]
    },
    {
     "data": {
      "image/png": "[encoded data removed]",
      "text/plain": [
       "<Figure size 432x288 with 1 Axes>"
      ]
     },
     "metadata": {
      "needs_background": "light"
     },
     "output_type": "display_data"
    },
    {
     "name": "stdout",
     "output_type": "stream",
     "text": [
      "-0.7638353109359741 -8.301698684692383\n"
     ]
    }
   ],
   "source": [
    "for _ in range(256):\n",
    "    train_epoch(data_loader, generator, discriminator, generator_optim=g_optim, \n",
    "            discriminator_optim=d_optim, alpha=1)"
   ]
  },
  {
   "cell_type": "code",
   "execution_count": null,
   "metadata": {},
   "outputs": [],
   "source": []
  },
  {
   "cell_type": "code",
   "execution_count": 5,
   "metadata": {},
   "outputs": [],
   "source": [
    "for i in range(100):\n",
    "    x = np.random.randn(1, 1, 32, 32, 32)\n",
    "    np.save(f'test_{i}.npy', x)\n",
    "    x = torch.from_numpy(x)\n",
    "    torch.save(x, f'test_{i}.pt')"
   ]
  },
  {
   "cell_type": "code",
   "execution_count": 7,
   "metadata": {},
   "outputs": [
    {
     "name": "stdout",
     "output_type": "stream",
     "text": [
      "121 ms ± 3.44 ms per loop (mean ± std. dev. of 7 runs, 10 loops each)\n"
     ]
    }
   ],
   "source": [
    "%timeit for i in range(100): torch.from_numpy(np.load(f'test_{i}.npy'))"
   ]
  },
  {
   "cell_type": "code",
   "execution_count": 8,
   "metadata": {},
   "outputs": [
    {
     "name": "stdout",
     "output_type": "stream",
     "text": [
      "85.9 ms ± 2.11 ms per loop (mean ± std. dev. of 7 runs, 10 loops each)\n"
     ]
    }
   ],
   "source": [
    "%timeit for i in range(100): torch.load(f'test_{i}.pt')"
   ]
  },
  {
   "cell_type": "code",
   "execution_count": 11,
   "metadata": {},
   "outputs": [],
   "source": [
    "!rm *.npy"
   ]
  },
  {
   "cell_type": "code",
   "execution_count": 12,
   "metadata": {},
   "outputs": [
    {
     "name": "stdout",
     "output_type": "stream",
     "text": [
      "convert_to_numpy.py  pgan_pytorch\t\ttest_0.gif  test_5.gif\n",
      "convert_to_torch.py  process_lidc_idri_data.py\ttest_1.gif  test_6.gif\n",
      "extract_metadata.py  README.md\t\t\ttest_2.gif  wgan_gp\n",
      "metadata.csv\t     stylegan\t\t\ttest_3.gif\n",
      "pgan\t\t     stylegan_3d\t\ttest_4.gif\n"
     ]
    }
   ],
   "source": [
    "!ls"
   ]
  },
  {
   "cell_type": "code",
   "execution_count": null,
   "metadata": {},
   "outputs": [],
   "source": []
  }
 ],
 "metadata": {
  "kernelspec": {
   "display_name": "Python 3",
   "language": "python",
   "name": "python3"
  },
  "language_info": {
   "codemirror_mode": {
    "name": "ipython",
    "version": 3
   },
   "file_extension": ".py",
   "mimetype": "text/x-python",
   "name": "python",
   "nbconvert_exporter": "python",
   "pygments_lexer": "ipython3",
   "version": "3.6.6"
  }
 },
 "nbformat": 4,
 "nbformat_minor": 4
}
